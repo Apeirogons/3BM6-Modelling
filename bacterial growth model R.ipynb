{
 "cells": [
  {
   "cell_type": "code",
   "execution_count": 1,
   "metadata": {},
   "outputs": [
    {
     "name": "stderr",
     "output_type": "stream",
     "text": [
      "Loading required package: deSolve\n",
      "Warning message:\n",
      "\"package 'deSolve' was built under R version 3.6.2\""
     ]
    }
   ],
   "source": [
    "require('deSolve')\n",
    "#install.packages('deSolve')"
   ]
  },
  {
   "cell_type": "code",
   "execution_count": 3,
   "metadata": {},
   "outputs": [],
   "source": [
    "library(\"deSolve\")"
   ]
  },
  {
   "cell_type": "code",
   "execution_count": 10,
   "metadata": {},
   "outputs": [],
   "source": [
    "Vmax = 0.1\n",
    "e = 1e-1\n",
    "Kd = 2\n",
    "R_infusion=0.0001\n",
    "C = 0.0001 #Baseline starvation consumption of energy\n",
    "K_transfer = 0.25"
   ]
  },
  {
   "cell_type": "code",
   "execution_count": 33,
   "metadata": {},
   "outputs": [],
   "source": [
    "monod = function(S, Ks){\n",
    "    return (S/(Ks+S))\n",
    "}\n",
    "\n",
    "clamp <- function(x, lower, upper){\n",
    "    if (x < lower){return(lower)}\n",
    "    else if (x>upper){return(upper)}\n",
    "    else{return(x)}\n",
    "    \n",
    "}\n",
    "\n",
    "f <- function(t, y, params){\n",
    "    N = y[1]\n",
    "    R = y[2]\n",
    "    S = y[3]\n",
    "    \n",
    "    RN = R/(N+S)\n",
    "\n",
    "    dNdt <- Vmax * monod(RN,Kd)*N - K_transfer*(1-monod(RN,Kd))*N\n",
    "    dRdt <- -e*Vmax*monod(RN,Kd)*N -C*(N+S)+R_infusion\n",
    "    dSdt <- K_transfer*(1-monod(RN,Kd))*N - 0.01*S\n",
    "    \n",
    "    dNdt <- clamp(dNdt, lower=-N, upper=99999)\n",
    "    dRdt <- clamp(dRdt, lower=-R, upper=99999)\n",
    "    dSdt <- clamp(dSdt, lower=-S, upper=99999)\n",
    "    \n",
    "    temp <- c(dNdt, dRdt, dSdt)\n",
    "    L = list(temp)\n",
    "\n",
    "    return(list(temp))\n",
    "}"
   ]
  },
  {
   "cell_type": "code",
   "execution_count": 37,
   "metadata": {},
   "outputs": [],
   "source": [
    "times <- seq(0,to=5000,by=0.1)\n",
    "initials <- c(N=1, R=10, S=0)"
   ]
  },
  {
   "cell_type": "code",
   "execution_count": 38,
   "metadata": {},
   "outputs": [],
   "source": [
    "out <- as.data.frame(ode(func=f,y=initials,times=times))#,parms=params))"
   ]
  },
  {
   "cell_type": "code",
   "execution_count": 39,
   "metadata": {},
   "outputs": [
    {
     "data": {
      "image/png": "[encoded data removed]",
      "text/plain": [
       "Plot with title \"Bacteria\""
      ]
     },
     "metadata": {},
     "output_type": "display_data"
    }
   ],
   "source": [
    "plot(times,out$S+out$N, type='l', col='red', main='Bacteria', xlab = 'Time', ylab = 'Number')\n",
    "lines(times,out$N, type='l', col='green')\n",
    "lines(times, out$S, type='l', col='blue')\n",
    "legend(100,100, legend = c('Stationary', 'Growth'), col = c('blue', 'green'))"
   ]
  },
  {
   "cell_type": "code",
   "execution_count": 40,
   "metadata": {},
   "outputs": [
    {
     "data": {
      "image/png": "[encoded data removed]",
      "text/plain": [
       "Plot with title \"Resource\""
      ]
     },
     "metadata": {},
     "output_type": "display_data"
    }
   ],
   "source": [
    "plot(times,out$R, type='l', col='blue', main='Resource', xlab = 'Time', ylab = 'Number')"
   ]
  }
 ],
 "metadata": {
  "kernelspec": {
   "display_name": "R",
   "language": "R",
   "name": "ir"
  },
  "language_info": {
   "codemirror_mode": "r",
   "file_extension": ".r",
   "mimetype": "text/x-r-source",
   "name": "R",
   "pygments_lexer": "r",
   "version": "3.6.1"
  }
 },
 "nbformat": 4,
 "nbformat_minor": 4
}
