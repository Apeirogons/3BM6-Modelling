{
 "cells": [
  {
   "cell_type": "code",
   "execution_count": 1,
   "metadata": {},
   "outputs": [
    {
     "name": "stderr",
     "output_type": "stream",
     "text": [
      "Loading required package: deSolve\n",
      "Warning message:\n",
      "\"package 'deSolve' was built under R version 3.6.2\""
     ]
    }
   ],
   "source": [
    "#install.packages('deSolve')\n",
    "require('deSolve')\n",
    "library(\"deSolve\")\n"
   ]
  },
  {
   "cell_type": "code",
   "execution_count": 2,
   "metadata": {},
   "outputs": [],
   "source": [
    "# most initial parameters are up here, except infusion rate (since it's interesting to change)\n",
    "\n",
    "V_max = 0.1\n",
    "e = 1e-1\n",
    "K_g = 2\n",
    "C = 0.0001 \n",
    "K_transfer = 0.10\n",
    "K_untransfer = 0.0001\n",
    "K_death = 0.01"
   ]
  },
  {
   "cell_type": "markdown",
   "metadata": {},
   "source": [
    "## Differential Equations\n",
    "\n",
    "$$ \\begin {aligned*}\n",
    " G = V_{max}\\cdot N \\cdot u(R, K_{g}) \\\\\n",
    " T_{s} = K_{T}\\cdot N \\cdot (1- u(R, K_{g})) \\\\\n",
    " T_n = K_R\\cdot S \\cdot u (R,K_g) \\\\ \\\\\n",
    "\\frac{dN}{dt} = G - T_s + T_n \\\\ \\\\\n",
    "\\frac{dR}{dt} = -e \\cdot G + C \\cdot (N+R) + i\\\\ \\\\ \n",
    "\\frac{dS}{dt} = T_s - T_n - K_d \\cdot S \\\\ \\\\\n",
    "u(x,\\ K)=\\frac{x}{x+K}\n",
    "\\end {aligned*}$$\n",
    "\n",
    "### Base variables \n",
    "$$ V_{max}$$: maximum per-bacterium growth rate \n",
    "\n",
    "$$ K_g $$: concentration of resource resulting in half-maximal growth rate\n",
    "\n",
    "$$ K_t $$: Rate constant for conversion from growth to stationary phase\n",
    "\n",
    "$$ K_R $$: Rate constant for conversion from stationary to growth phase\n",
    "\n",
    "$$ K_d $$: Rate constant for stationary phase bacterial death due to starvation\n",
    "\n",
    "$$ e $$: efficiency constant; amount of resource to create a new bacterium\n",
    "\n",
    "$$ C $$: constant resource consumption per bacterium\n",
    "\n",
    "$$ i $$: infusion rate; amount of resource influx per unit time\n",
    "\n",
    "### Explanation of composite variables\n",
    "$$ u(x, K) $$: common function used in Monod law\n",
    "\n",
    "$$ G $$: New growth phase bacteria\n",
    "\n",
    "$$ T_s $$: Transfers from growth to stationary phase\n",
    "\n",
    "$$ T_n $$: Transfers from stationary to growth phase\n",
    "\n",
    "\n"
   ]
  },
  {
   "cell_type": "code",
   "execution_count": 3,
   "metadata": {},
   "outputs": [],
   "source": [
    "# functions for ODE solving here\n",
    "\n",
    "monod <- function(S, Ks){ # since it gets called a lot \n",
    "  return (S/(Ks+S))\n",
    "}\n",
    "\n",
    "clamp <- function(x, lower, upper){ # It's possible for a small approximation error to create a negative value, which causes issues\n",
    "  if (x < lower){return(lower)}\n",
    "  else if (x>upper){return(upper)}\n",
    "  else{return(x)}\n",
    "  \n",
    "}\n",
    "\n",
    "f <- function(t, y, params){ # Main ODE system\n",
    "  N = y[1]\n",
    "  R = y[2]\n",
    "  S = y[3]\n",
    "  i = params[1]\n",
    "  \n",
    "  RN = R#/(N+S)\n",
    "  G <- V_max * monod(RN,K_g)*N\n",
    "  T_S <- K_transfer*(1-monod(RN,K_g))*N\n",
    "  T_N <- K_untransfer*monod(RN,K_g)*S\n",
    "    \n",
    "  dNdt <-  G - T_S + T_N\n",
    "  dRdt <- -e*G +i+ C*(N+R)\n",
    "  dSdt <- T_S - T_N - K_death*S  \n",
    "  \n",
    "  dNdt <- clamp(dNdt, lower=-N, upper=99999)\n",
    "  dRdt <- clamp(dRdt, lower=-R, upper=99999)\n",
    "  dSdt <- clamp(dSdt, lower=-S, upper=99999)\n",
    "  \n",
    "  temp <- c(dNdt, dRdt, dSdt)\n",
    "  L = list(temp)\n",
    "  \n",
    "  return(list(temp))\n",
    "}"
   ]
  },
  {
   "cell_type": "code",
   "execution_count": 4,
   "metadata": {},
   "outputs": [],
   "source": [
    "# Playing with the model here. \n",
    "out = data.frame()\n",
    "\n",
    "# Let the population grow to its normal equilibrium size\n",
    "times <- seq(0,to=1000,by=0.1)\n",
    "initials <- c(N=1, R=10, S=0)\n",
    "out_1 <- as.data.frame(ode(func=f,y=initials,parms = c(i=0.1),times=times))\n",
    "out <- rbind(out, out_1)"
   ]
  },
  {
   "cell_type": "code",
   "execution_count": 5,
   "metadata": {},
   "outputs": [],
   "source": [
    "# Give the population some new resources\n",
    "L = length(out$time)\n",
    "times <- seq(out$time[L],to=out$time[L]+1000,by=0.1)\n",
    "initials <- c(N=out$N[L], R=out$R[L]+20, S = out$S[L])\n",
    "out_1 <- as.data.frame(ode(func=f,y=initials,parms = c(i=0.1),times=times))\n",
    "out <- rbind(out, out_1)"
   ]
  },
  {
   "cell_type": "code",
   "execution_count": 6,
   "metadata": {},
   "outputs": [],
   "source": [
    "# Remove the constant infusion of resources\n",
    "L = length(out$time)\n",
    "times <- seq(out$time[L],to=out$time[L]+1000,by=0.1)\n",
    "initials <- c(N=out$N[L], R=out$R[L], S = out$S[L])\n",
    "out_1 <- as.data.frame(ode(func=f,y=initials,parms = c(i=0.0),times=times))\n",
    "out <- rbind(out, out_1)"
   ]
  },
  {
   "cell_type": "code",
   "execution_count": 7,
   "metadata": {},
   "outputs": [],
   "source": [
    "# Bring the population back\n",
    "L = length(out$time)\n",
    "times <- seq(out$time[L],to=out$time[L]+1000,by=0.1)\n",
    "initials <- c(N=out$N[L], R=out$R[L], S = out$S[L])\n",
    "out_1 <- as.data.frame(ode(func=f,y=initials,parms = c(i=0.1),times=times))\n",
    "out <- rbind(out, out_1)"
   ]
  },
  {
   "cell_type": "code",
   "execution_count": 8,
   "metadata": {},
   "outputs": [
    {
     "data": {
      "image/png": "[encoded data removed]",
      "text/plain": [
       "Plot with title \"Bacteria\""
      ]
     },
     "metadata": {},
     "output_type": "display_data"
    }
   ],
   "source": [
    "# Plot our populations over time (I can't make a nice legend right now; RED is total bacteria, BLUE is stationary phase, GREEN is growth phase)\n",
    "plot(out$time,out$S+out$N, type='l', col='red', main='Bacteria', xlab = 'Time', ylab = 'Number')\n",
    "lines(out$time,out$N, type='l', col='green')\n",
    "lines(out$time, out$S, type='l', col='blue')\n"
   ]
  },
  {
   "cell_type": "code",
   "execution_count": 9,
   "metadata": {},
   "outputs": [
    {
     "data": {
      "image/png": "[encoded data removed]",
      "text/plain": [
       "Plot with title \"Resource\""
      ]
     },
     "metadata": {},
     "output_type": "display_data"
    }
   ],
   "source": [
    "plot(out$time,out$R, type='l', col='red', main='Resource', xlab = 'Time', ylab = 'Amount')"
   ]
  }
 ],
 "metadata": {
  "kernelspec": {
   "display_name": "R",
   "language": "R",
   "name": "ir"
  },
  "language_info": {
   "codemirror_mode": "r",
   "file_extension": ".r",
   "mimetype": "text/x-r-source",
   "name": "R",
   "pygments_lexer": "r",
   "version": "3.6.1"
  }
 },
 "nbformat": 4,
 "nbformat_minor": 4
}
